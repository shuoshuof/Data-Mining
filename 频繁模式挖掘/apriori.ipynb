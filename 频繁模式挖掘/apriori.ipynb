{
 "cells": [
  {
   "cell_type": "code",
   "execution_count": 18,
   "metadata": {},
   "outputs": [],
   "source": [
    "import numpy as np\n",
    "import math"
   ]
  },
  {
   "cell_type": "code",
   "execution_count": 81,
   "metadata": {},
   "outputs": [],
   "source": [
    "class item_set_and_num:\n",
    "    def __init__(self,item_set:set,num):\n",
    "        self.item_set = item_set\n",
    "        self.num = num\n",
    "class item_sets:\n",
    "    def __init__(self):\n",
    "        self.item_sets = []\n",
    "    def __getitem__(self,item_set:set):\n",
    "        for idx,item in enumerate(self.item_sets):\n",
    "            if item.item_set == item_set:\n",
    "                return item\n",
    "        return None\n",
    "    def __len__(self):\n",
    "        return len(self.item_sets)\n",
    "    def __iter__(self):\n",
    "        self.index =0\n",
    "        return self\n",
    "    def __next__(self):\n",
    "        if self.index<len(self):\n",
    "            self.index += 1\n",
    "            return self.item_sets[self.index-1]\n",
    "        else:\n",
    "            raise StopIteration\n",
    "    def append(self,item:set):\n",
    "        self.item_sets.append(item_set_and_num(item,1))\n",
    "    #过滤掉小于最小支持度的项集\n",
    "    def filter(self,min_sup):\n",
    "        for idx,item_set in enumerate(self.item_sets.copy()):\n",
    "            if item_set.num<min_sup:\n",
    "                self.item_sets.pop(idx)\n",
    "    def __str__(self) -> str:\n",
    "        for item in self.item_sets:\n",
    "            print(f\"{item.item_set}:{item.num}\")\n",
    "        return ''\n"
   ]
  },
  {
   "attachments": {},
   "cell_type": "markdown",
   "metadata": {},
   "source": [
    "$L_k为频繁k项集，C_k为候选项集$"
   ]
  },
  {
   "cell_type": "code",
   "execution_count": 85,
   "metadata": {},
   "outputs": [
    {
     "name": "stdout",
     "output_type": "stream",
     "text": [
      "{1}:6\n",
      "{2}:7\n",
      "{5}:2\n",
      "{4}:2\n",
      "{3}:6\n",
      "\n",
      "{1}:6\n",
      "{2}:7\n",
      "{5}:2\n",
      "{4}:2\n",
      "{3}:6\n",
      "\n"
     ]
    }
   ],
   "source": [
    "data =[[1,2,5], [2,4], [2,3], [1,2,4], [1,3], [2,3], [1,3], [1,2,3,5], [1,2,3]]\n",
    "min_sup = 2\n",
    "L_k = item_sets()\n",
    "for item in data:\n",
    "    for item_set in item:\n",
    "        item_set = set({item_set})\n",
    "        if L_k[item_set]==None:\n",
    "            L_k.append(item_set)\n",
    "        else:\n",
    "            L_k[item_set].num+=1\n",
    "print(L_k)\n",
    "L_k.filter(min_sup)\n",
    "print(L_k)"
   ]
  },
  {
   "cell_type": "code",
   "execution_count": 86,
   "metadata": {},
   "outputs": [],
   "source": [
    "def get_C_k(L_k:item_sets):\n",
    "    C_k = item_sets()\n",
    "    for item1 in L_k:\n",
    "        for item2 in L_k:\n",
    "            new_item_set = item1.item_set|item2.item_set\n",
    "            if len(new_item_set)==len(item1.item_set)+1:\n",
    "                if C_k[new_item_set]==None:\n",
    "                    C_k.append(new_item_set)\n",
    "    return C_k\n",
    "\n",
    "        "
   ]
  },
  {
   "cell_type": "code",
   "execution_count": null,
   "metadata": {},
   "outputs": [],
   "source": [
    "result = []\n",
    "result.append(L_k)\n",
    "\n",
    "#L_k为空时停止\n",
    "while len(L_k)>1:\n",
    "    C_k = get_C_k(L_k)\n",
    "    print(C_k)\n",
    "    "
   ]
  }
 ],
 "metadata": {
  "kernelspec": {
   "display_name": "base",
   "language": "python",
   "name": "python3"
  },
  "language_info": {
   "codemirror_mode": {
    "name": "ipython",
    "version": 3
   },
   "file_extension": ".py",
   "mimetype": "text/x-python",
   "name": "python",
   "nbconvert_exporter": "python",
   "pygments_lexer": "ipython3",
   "version": "3.7.4"
  },
  "orig_nbformat": 4,
  "vscode": {
   "interpreter": {
    "hash": "2dbe5485cf12282196b80a8ac362415f1d4830d1445e2229f35f94c570ef032e"
   }
  }
 },
 "nbformat": 4,
 "nbformat_minor": 2
}
