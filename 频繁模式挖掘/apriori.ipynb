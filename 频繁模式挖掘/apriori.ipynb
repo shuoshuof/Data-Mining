{
 "cells": [
  {
   "cell_type": "code",
   "execution_count": 109,
   "metadata": {},
   "outputs": [],
   "source": [
    "import math"
   ]
  },
  {
   "cell_type": "code",
   "execution_count": 110,
   "metadata": {},
   "outputs": [],
   "source": [
    "class item_set_and_num:\n",
    "    def __init__(self,item_set:set,num):\n",
    "        self.item_set = item_set\n",
    "        self.num = num\n",
    "class item_sets:\n",
    "    def __init__(self):\n",
    "        self.item_sets = []\n",
    "    def __getitem__(self,item_set:set):\n",
    "        for idx,item in enumerate(self.item_sets):\n",
    "            if item.item_set == item_set:\n",
    "                return item\n",
    "        return None\n",
    "    def __len__(self):\n",
    "        return len(self.item_sets)\n",
    "    def __iter__(self):\n",
    "        self.index =0\n",
    "        return self\n",
    "    def __next__(self):\n",
    "        if self.index<len(self):\n",
    "            self.index += 1\n",
    "            return self.item_sets[self.index-1]\n",
    "        else:\n",
    "            raise StopIteration\n",
    "    #根据项集作为下标增加\n",
    "    def append(self,item_set:set,num=0):\n",
    "        self.item_sets.append(item_set_and_num(item_set,num))\n",
    "    #根据项集作为下标删除\n",
    "    def pop(self,item_set:set):\n",
    "        for idx,item in enumerate(self.item_sets.copy()):\n",
    "            if item.item_set == item_set:\n",
    "                self.item_sets.pop(idx)\n",
    "    #过滤掉小于最小支持度的项集\n",
    "    def filter(self,min_sup):\n",
    "        del_num=0\n",
    "        for idx,item_set in enumerate(self.item_sets.copy()):\n",
    "            if item_set.num<min_sup:\n",
    "                self.item_sets.pop(idx-del_num)\n",
    "                del_num+=1\n",
    "    def __str__(self) -> str:\n",
    "        for item in self.item_sets:\n",
    "            print(f\"{item.item_set}:{item.num}\")\n",
    "        return ''\n"
   ]
  },
  {
   "attachments": {},
   "cell_type": "markdown",
   "metadata": {},
   "source": [
    "$L_k为频繁k项集，C_k为候选项集$"
   ]
  },
  {
   "cell_type": "code",
   "execution_count": 111,
   "metadata": {},
   "outputs": [],
   "source": [
    "data = [[1, 3, 4], [2, 3, 5], [1, 2, 3, 5], [2, 5]]\n",
    "# data =[['A','C','D'],['B','C','E'],['A','B','C','E'],['B','E']]\n",
    "# data =[[1,2,5], [2,4], [2,3], [1,2,4], [1,3], [2,3], [1,3], [1,2,3,5], [1,2,3]]\n",
    "min_sup = 2\n",
    "L_k = item_sets()\n",
    "for item in data:\n",
    "    for item_set in item:\n",
    "        item_set = set({item_set})\n",
    "        if L_k[item_set]==None:\n",
    "            L_k.append(item_set,1)\n",
    "        else:\n",
    "            L_k[item_set].num+=1\n",
    "L_k.filter(min_sup)"
   ]
  },
  {
   "attachments": {},
   "cell_type": "markdown",
   "metadata": {},
   "source": [
    "$求取C_k：当L_{k-1}中任意两个项集交集的元素个数为k时为候选k项集$"
   ]
  },
  {
   "cell_type": "code",
   "execution_count": 112,
   "metadata": {},
   "outputs": [],
   "source": [
    "def get_C_k(L_k:item_sets):\n",
    "    C_k = item_sets()\n",
    "    for item1 in L_k.item_sets:\n",
    "        for item2 in L_k.item_sets:\n",
    "            new_item_set = item1.item_set|item2.item_set\n",
    "            if len(new_item_set)==len(item1.item_set)+1:\n",
    "                if C_k[new_item_set]==None:\n",
    "                    C_k.append(new_item_set)\n",
    "    return C_k      "
   ]
  },
  {
   "attachments": {},
   "cell_type": "markdown",
   "metadata": {},
   "source": [
    "\n",
    "$C_k 中的一个候选项集的某个k-1项子集不是L_{k-1}中的元素时，则将它从C_k中删除。$     \n",
    "$等价于： C_k 中的一个候选项集的所有k-1项子集都是L_{k-1}中的元素，$     \n",
    "$即L_{k-1}中是C_k中某个候选项集的子集的数目等于这个候选项集的k-1项子集的数目，否则将它从C_k中删除。$\n",
    "\n"
   ]
  },
  {
   "cell_type": "code",
   "execution_count": 113,
   "metadata": {},
   "outputs": [],
   "source": [
    "def cut(C_k:item_sets,L:item_sets):\n",
    "    C_k_1 = item_sets()\n",
    "    for item in C_k:\n",
    "        t = 0\n",
    "        for item1 in L:\n",
    "            if item1.item_set.issubset(item.item_set):\n",
    "                t+=1\n",
    "        base=len(item.item_set)\n",
    "        if t==math.factorial(base)/(math.factorial(base-1)):\n",
    "            C_k_1.append(item.item_set)\n",
    "    return C_k_1"
   ]
  },
  {
   "attachments": {},
   "cell_type": "markdown",
   "metadata": {},
   "source": [
    "$计算C_k中每个k项集的支持数，并删除小于最小支持书的k项集$"
   ]
  },
  {
   "cell_type": "code",
   "execution_count": 114,
   "metadata": {},
   "outputs": [],
   "source": [
    "def get_L_k(C_k:item_sets,data):\n",
    "    for item in C_k:\n",
    "        for item1 in data:\n",
    "            if item.item_set.issubset(item1):\n",
    "                C_k[item.item_set].num+=1\n",
    "    C_k.filter(min_sup)\n",
    "    return C_k\n"
   ]
  },
  {
   "cell_type": "code",
   "execution_count": 115,
   "metadata": {},
   "outputs": [
    {
     "name": "stdout",
     "output_type": "stream",
     "text": [
      "{1}:2\n",
      "{3}:3\n",
      "{2}:3\n",
      "{5}:3\n",
      "\n",
      "{1, 3}:2\n",
      "{2, 3}:2\n",
      "{3, 5}:2\n",
      "{2, 5}:3\n",
      "\n",
      "{2, 3, 5}:2\n",
      "\n"
     ]
    }
   ],
   "source": [
    "result = []\n",
    "result.append(L_k)\n",
    "print(L_k)\n",
    "#L_k为空时停止\n",
    "while len(L_k)>1:\n",
    "    C_k = get_C_k(L_k)\n",
    "    C_k = cut(C_k,L_k)\n",
    "    L_k = get_L_k(C_k,data)\n",
    "    print(L_k)\n",
    "    result.append(L_k)\n",
    "\n",
    "    "
   ]
  }
 ],
 "metadata": {
  "kernelspec": {
   "display_name": "base",
   "language": "python",
   "name": "python3"
  },
  "language_info": {
   "codemirror_mode": {
    "name": "ipython",
    "version": 3
   },
   "file_extension": ".py",
   "mimetype": "text/x-python",
   "name": "python",
   "nbconvert_exporter": "python",
   "pygments_lexer": "ipython3",
   "version": "3.9.13"
  },
  "orig_nbformat": 4,
  "vscode": {
   "interpreter": {
    "hash": "5c8985b134ca31c800365a482ea2e02d61c4c6051d5e4ca4cada8260d96b92fc"
   }
  }
 },
 "nbformat": 4,
 "nbformat_minor": 2
}
